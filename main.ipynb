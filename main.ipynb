{
 "cells": [
  {
   "cell_type": "code",
   "execution_count": null,
   "metadata": {},
   "outputs": [],
   "source": [
    "import pandas as pd\n",
    "import os\n",
    "from datetime import datetime\n",
    "import warnings\n",
    "\n",
    "# Desabilita warnings de estilos do openpyxl (opcional)\n",
    "warnings.filterwarnings('ignore', category=UserWarning, module='openpyxl')\n",
    "\n",
    "# Caminhos das pastas de origem e destino\n",
    "origem = r'C:\\\\_arquivos_acoes\\\\processar\\\\'\n",
    "destino = r'C:\\\\_arquivos_acoes\\\\processado\\\\'\n",
    "\n",
    "# Criar pastas se não existir\n",
    "if not os.path.exists(origem):\n",
    "    os.makedirs(origem)\n",
    "if not os.path.exists(destino):\n",
    "    os.makedirs(destino)"
   ]
  },
  {
   "cell_type": "code",
   "execution_count": null,
   "metadata": {},
   "outputs": [],
   "source": []
  }
 ],
 "metadata": {
  "kernelspec": {
   "display_name": "base",
   "language": "python",
   "name": "python3"
  },
  "language_info": {
   "codemirror_mode": {
    "name": "ipython",
    "version": 3
   },
   "file_extension": ".py",
   "mimetype": "text/x-python",
   "name": "python",
   "nbconvert_exporter": "python",
   "pygments_lexer": "ipython3",
   "version": "3.11.7"
  }
 },
 "nbformat": 4,
 "nbformat_minor": 2
}
